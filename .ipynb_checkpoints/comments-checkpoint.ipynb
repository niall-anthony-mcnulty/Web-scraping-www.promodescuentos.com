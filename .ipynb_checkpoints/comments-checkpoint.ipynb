{
 "cells": [
  {
   "cell_type": "code",
   "execution_count": 12,
   "id": "11acd569",
   "metadata": {},
   "outputs": [],
   "source": [
    "## imports\n",
    "\n",
    "from selenium import webdriver\n",
    "from selenium.webdriver.chrome.options import Options\n",
    "from selenium.webdriver.common.by import By\n",
    "from selenium.webdriver.support.ui import WebDriverWait\n",
    "from selenium.webdriver.support import expected_conditions as EC\n",
    "import pandas as pd\n",
    "import re\n",
    "import requests\n",
    "from bs4 import BeautifulSoup\n",
    "import time\n",
    "import pprint\n",
    "from datetime import datetime\n",
    "from pandas import ExcelWriter\n",
    "from pandas import ExcelFile"
   ]
  },
  {
   "cell_type": "code",
   "execution_count": null,
   "id": "984b3ed3",
   "metadata": {},
   "outputs": [],
   "source": []
  },
  {
   "cell_type": "code",
   "execution_count": 13,
   "id": "e95234dd",
   "metadata": {},
   "outputs": [],
   "source": [
    "# obtain read in excel file\n",
    "\n",
    "df_url = pd.read_excel(\"/Users/Niall-McNulty/Desktop/Computer Science Projects:Courses/Web Scraping/Web-scraping-www.promodescuentos.com/promodescuentos.xlsx\", index_col=0)\n"
   ]
  },
  {
   "cell_type": "code",
   "execution_count": 31,
   "id": "8630cfa6",
   "metadata": {},
   "outputs": [
    {
     "data": {
      "text/plain": [
       "['https://www.promodescuentos.com/ofertas/among-us-se-lanzara-con-xbox-game-pass-consola-el-14-de-diciembre-661506',\n",
       " 'https://www.promodescuentos.com/ofertas/amazon-one-plus-7t-8gb-ram-128gb-renewed-661424',\n",
       " 'https://www.promodescuentos.com/ofertas/curso-yo-se-excel-un-curso-de-excel-para-principiantes-661670',\n",
       " 'https://www.promodescuentos.com/ofertas/casco-stormtrooper-starwars-con-visor-para-mala-punteria-661662',\n",
       " 'https://www.promodescuentos.com/ofertas/grand-theft-auto-san-andreas-the-definitive-edition-en-game-pass-noviembre-11-661764',\n",
       " 'https://www.promodescuentos.com/ofertas/iphone-12-pro-max-128gb-661724',\n",
       " 'https://www.promodescuentos.com/ofertas/sorteo-buen-fin-2021-sat-661612',\n",
       " 'https://www.promodescuentos.com/ofertas/soriana-hiper-y-super-folleto-productos-gratis-con-puntos-vigencia-de-puntos-recompensas-soriana-domingo-31-de-octubre-661108',\n",
       " 'https://www.promodescuentos.com/ofertas/fallout-76-prueba-gratuita-multiplataforma-pc-steam-xbox-one-ps4-del-19-24-octubre-661329',\n",
       " 'https://www.promodescuentos.com/ofertas/prime-video-gratis-coldplay-en-vivo-desde-climate-pledge-arena-con-o-sin-membresia-2211-659915']"
      ]
     },
     "execution_count": 31,
     "metadata": {},
     "output_type": "execute_result"
    }
   ],
   "source": [
    "# create a list of URLS to iterate over\n",
    "arr_url = [ x for x in df_url['URL']]\n",
    "arr_url[:10]"
   ]
  },
  {
   "cell_type": "code",
   "execution_count": 39,
   "id": "b3070b3b",
   "metadata": {},
   "outputs": [
    {
     "name": "stdout",
     "output_type": "stream",
     "text": [
      "https://www.promodescuentos.com/ofertas/casco-stormtrooper-starwars-con-visor-para-mala-punteria-661662\n",
      "[<span class=\"lbox--v-3 space--l-2 size--all-m size--fromW2-l text--b\"> Mejores comentarios </span>]\n",
      "['https://www.promodescuentos.com/ofertas/casco-stormtrooper-starwars-con-visor-para-mala-punteria-661662']\n",
      "['RPC']\n",
      "[]\n",
      "['45']\n"
     ]
    }
   ],
   "source": [
    "\n",
    "# create lists to append relevant data to\n",
    "\n",
    "urls = []\n",
    "top_comment_user = []\n",
    "top_comment = []\n",
    "thumbs_up = []\n",
    "\n",
    "\n",
    "# loop through urls and get data\n",
    "for url in arr_url[3:4]:\n",
    "    \n",
    "    this_url = url\n",
    "    print(url)\n",
    "    urls.append(url)\n",
    "\n",
    "    # set up selenium / driver / path\n",
    "\n",
    "    DRIVER_PATH = '/Users/Niall-McNulty/Desktop/Computer Science Projects:Courses/Web Scraping/chromedriver'\n",
    "    # add headless mode\n",
    "    options = Options()\n",
    "    options.add_argument(\"--headless\") # Runs Chrome in headless mode.\n",
    "    options.add_argument('--no-sandbox') # Bypass OS security model\n",
    "    driver = webdriver.Chrome(options=options, executable_path=DRIVER_PATH)\n",
    "    driver.get(url)\n",
    "   \n",
    "    r = driver.page_source\n",
    "    soup = BeautifulSoup(r, 'html.parser')\n",
    "    \n",
    "    # check if there is a top comments section\n",
    "    find_comments = soup.find_all('span',{'class':'lbox--v-3 space--l-2 size--all-m size--fromW2-l text--b'})\n",
    "    print(find_comments)\n",
    "    for elements in find_comments:\n",
    "        # check for top comments\n",
    "        if 'Mejores comentarios' in elements.text:\n",
    "            # if there is, find the username (first matching element) and append to list\n",
    "            if soup.find('span',{'class': 'userInfo-username'}).text:\n",
    "                user_name = soup.find('span',{'class': 'userInfo-username'}).text\n",
    "                top_comment_user.append(user_name)\n",
    "            else:\n",
    "                top_comment_user.appned(None)\n",
    "            \n",
    "            # check for thumbs up amount and append to list\n",
    "            if soup.find('span', {'class': 'comment-like'}).text:\n",
    "                thumbs_up_count = soup.find('span', {'class': 'comment-like'}).text\n",
    "                thumbs_up.append(thumbs_up_count)\n",
    "            else:\n",
    "                thumbs_up.append(None)\n",
    "            \n",
    "            \n",
    "#             # check for comment and append to list\n",
    "#             if soup.find('span',{'class':'comment-body'}).text:\n",
    "#                 comment = soup.find('span',{'class':'comment-body'}).text\n",
    "#                 top_comment.append(comment)\n",
    "#             # if there is no text, check for images - if there is, append 'Meme'\n",
    "#             elif soup.find('img') in soup.find('span',{'class':'comment-body'}):\n",
    "#                 top_comment.append('Meme')\n",
    "#             # else, append None - which shouldn't be the case\n",
    "#             else:\n",
    "#                 top_comment.append(None)\n",
    "#         # continue loop if no top comments found  \n",
    "        else:\n",
    "            continue\n",
    "\n",
    "    \n",
    "    \n",
    "    driver.quit()\n",
    "    \n",
    "print(urls)\n",
    "print(top_comment_user)\n",
    "print(top_comment)\n",
    "print(thumbs_up)\n"
   ]
  },
  {
   "cell_type": "code",
   "execution_count": null,
   "id": "8f60cb04",
   "metadata": {},
   "outputs": [],
   "source": []
  },
  {
   "cell_type": "code",
   "execution_count": null,
   "id": "2b30ceab",
   "metadata": {},
   "outputs": [],
   "source": []
  },
  {
   "cell_type": "code",
   "execution_count": null,
   "id": "0fd63186",
   "metadata": {},
   "outputs": [],
   "source": []
  },
  {
   "cell_type": "code",
   "execution_count": null,
   "id": "dafa400d",
   "metadata": {},
   "outputs": [],
   "source": []
  }
 ],
 "metadata": {
  "kernelspec": {
   "display_name": "Python 3 (ipykernel)",
   "language": "python",
   "name": "python3"
  },
  "language_info": {
   "codemirror_mode": {
    "name": "ipython",
    "version": 3
   },
   "file_extension": ".py",
   "mimetype": "text/x-python",
   "name": "python",
   "nbconvert_exporter": "python",
   "pygments_lexer": "ipython3",
   "version": "3.8.12"
  }
 },
 "nbformat": 4,
 "nbformat_minor": 5
}
